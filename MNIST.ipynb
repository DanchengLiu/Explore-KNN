{
 "cells": [
  {
   "cell_type": "code",
   "execution_count": 1,
   "id": "3d637646",
   "metadata": {},
   "outputs": [],
   "source": [
    "import torch\n",
    "import matplotlib.pyplot as plt\n",
    "import numpy as np\n",
    "import torch.nn as nn\n",
    "import torch.nn.functional as F\n",
    "import os\n",
    "import struct"
   ]
  },
  {
   "cell_type": "code",
   "execution_count": 2,
   "id": "1d3ae252",
   "metadata": {},
   "outputs": [
    {
     "name": "stdout",
     "output_type": "stream",
     "text": [
      "tensor([[0.2496, 0.1095, 0.5510],\n",
      "        [0.4810, 0.0065, 0.2594],\n",
      "        [0.9221, 0.1985, 0.2851],\n",
      "        [0.6651, 0.6781, 0.2808],\n",
      "        [0.1247, 0.7747, 0.5102]])\n"
     ]
    }
   ],
   "source": [
    "'''\n",
    "test torch\n",
    "'''\n",
    "x = torch.rand(5,3)\n",
    "print(x)"
   ]
  },
  {
   "cell_type": "code",
   "execution_count": 3,
   "id": "b5c3bddd",
   "metadata": {},
   "outputs": [
    {
     "name": "stderr",
     "output_type": "stream",
     "text": [
      "<>:14: SyntaxWarning: \"is\" with a literal. Did you mean \"==\"?\n",
      "<>:17: SyntaxWarning: \"is\" with a literal. Did you mean \"==\"?\n",
      "<>:14: SyntaxWarning: \"is\" with a literal. Did you mean \"==\"?\n",
      "<>:17: SyntaxWarning: \"is\" with a literal. Did you mean \"==\"?\n",
      "<ipython-input-3-4ac204ca8a72>:14: SyntaxWarning: \"is\" with a literal. Did you mean \"==\"?\n",
      "  if dataset is \"training\":\n",
      "<ipython-input-3-4ac204ca8a72>:17: SyntaxWarning: \"is\" with a literal. Did you mean \"==\"?\n",
      "  elif dataset is \"testing\":\n"
     ]
    }
   ],
   "source": [
    "'''\n",
    "for simplicity, use code from CSE152A\n",
    "'''\n",
    "\n",
    "path = \"mnist/\"\n",
    "\n",
    "def read(dataset = \"training\", datatype='images'):\n",
    "    \"\"\"\n",
    "    Python function for importing the MNIST data set.  It returns an iterator\n",
    "    of 2-tuples with the first element being the label and the second element\n",
    "    being a numpy.uint8 2D array of pixel data for the given image.\n",
    "    \"\"\"\n",
    "    \n",
    "    if dataset is \"training\":\n",
    "        fname_img = os.path.join(path, 'train-images.idx3-ubyte')\n",
    "        fname_lbl = os.path.join(path, 'train-labels.idx1-ubyte')\n",
    "    elif dataset is \"testing\":\n",
    "        fname_img = os.path.join(path, 't10k-images.idx3-ubyte')\n",
    "        fname_lbl = os.path.join(path, 't10k-labels.idx1-ubyte')\n",
    "\n",
    "    # Load everything in some numpy arrays\n",
    "    with open(fname_lbl, 'rb') as flbl:\n",
    "        magic, num = struct.unpack(\">II\", flbl.read(8))\n",
    "        lbl = np.fromfile(flbl, dtype=np.int8)\n",
    "\n",
    "    with open(fname_img, 'rb') as fimg:\n",
    "        magic, num, rows, cols = struct.unpack(\">IIII\", fimg.read(16))\n",
    "        img = np.fromfile(fimg, dtype=np.uint8).reshape(len(lbl), rows, cols)\n",
    "    \n",
    "    if(datatype=='images'):\n",
    "        get_data = lambda idx: img[idx]\n",
    "    elif(datatype=='labels'):\n",
    "        get_data = lambda idx: lbl[idx]\n",
    "\n",
    "    # Create an iterator which returns each image in turn\n",
    "    for i in range(len(lbl)):\n",
    "        yield get_data(i)\n",
    "        \n",
    "trainData=np.array(list(read('training','images')))\n",
    "trainLabels=np.array(list(read('training','labels')))\n",
    "testData=np.array(list(read('testing','images')))\n",
    "testLabels=np.array(list(read('testing','labels')))"
   ]
  },
  {
   "cell_type": "code",
   "execution_count": 4,
   "id": "e0b10e40",
   "metadata": {},
   "outputs": [
    {
     "name": "stdout",
     "output_type": "stream",
     "text": [
      "(60000, 28, 28) (60000,)\n",
      "(10000, 28, 28) (10000,)\n"
     ]
    }
   ],
   "source": [
    "print(trainData.shape, trainLabels.shape)\n",
    "print(testData.shape, testLabels.shape)"
   ]
  },
  {
   "cell_type": "code",
   "execution_count": 5,
   "id": "2fec9c92",
   "metadata": {},
   "outputs": [],
   "source": [
    "def DataBatch(data, label, batchsize, shuffle=True):\n",
    "    n = data.shape[0]\n",
    "    if shuffle:\n",
    "        index = np.random.permutation(n)\n",
    "    else:\n",
    "        index = np.arange(n)\n",
    "    for i in range(int(np.ceil(n/batchsize))):\n",
    "        inds = index[i*batchsize : min(n,(i+1)*batchsize)]\n",
    "        yield data[inds], label[inds]\n",
    "\n",
    "# tests the accuracy of a classifier\n",
    "def test(testData, testLabels, classifier):\n",
    "    batchsize=50\n",
    "    correct=0.\n",
    "    for data,label in DataBatch(testData,testLabels,batchsize,shuffle=False):\n",
    "        prediction = classifier(data)\n",
    "        correct += np.sum(prediction==label)\n",
    "    return correct/testData.shape[0]*100\n",
    "\n",
    "# a sample classifier\n",
    "# given an input it outputs a random class\n",
    "class RandomClassifier():\n",
    "    def __init__(self, classes=10):\n",
    "        self.classes=classes\n",
    "    def __call__(self, x):\n",
    "        return np.random.randint(self.classes, size=x.shape[0])"
   ]
  },
  {
   "cell_type": "code",
   "execution_count": 6,
   "id": "e6da907c",
   "metadata": {},
   "outputs": [
    {
     "name": "stdout",
     "output_type": "stream",
     "text": [
      "Random classifier accuracy: 10.100000\n"
     ]
    }
   ],
   "source": [
    "randomClassifier = RandomClassifier()\n",
    "print('Random classifier accuracy: %f' % \n",
    "      test(testData, testLabels, randomClassifier))"
   ]
  },
  {
   "cell_type": "markdown",
   "id": "f1dd24c5",
   "metadata": {},
   "source": [
    "# KNN"
   ]
  },
  {
   "cell_type": "code",
   "execution_count": 7,
   "id": "5c2345ee",
   "metadata": {},
   "outputs": [
    {
     "name": "stdout",
     "output_type": "stream",
     "text": [
      "KNN classifier accuracy: 64.760000\n"
     ]
    }
   ],
   "source": [
    "from sklearn.neighbors import KNeighborsClassifier\n",
    "class KNNClassifer():\n",
    "    def __init__(self, k=3):\n",
    "        # k is the number of neighbors involved in voting\n",
    "        \"\"\" ==========\n",
    "        YOUR CODE HERE\n",
    "        ========== \"\"\"\n",
    "        self.classifier = KNeighborsClassifier(n_neighbors=k)\n",
    "    def train(self, trainData, trainLabels):\n",
    "        \"\"\" ==========\n",
    "        YOUR CODE HERE\n",
    "        ========== \"\"\"\n",
    "        #print(trainData.shape)\n",
    "        trainData = np.reshape(trainData, (trainData.shape[0], trainData.shape[1]*trainData.shape[2]))\n",
    "        #print(trainData.shape)\n",
    "        self.classifier.fit(trainData,trainLabels)\n",
    "    def __call__(self, x):\n",
    "        # this method should take a batch of images\n",
    "        # and return a batch of predictions\n",
    "        \"\"\" ==========\n",
    "        YOUR CODE HERE\n",
    "        ========== \"\"\"\n",
    "        x = np.reshape(x, (x.shape[0], x.shape[1]*x.shape[2]))\n",
    "        '''\n",
    "        predictions = np.empty((x.shape[0]))\n",
    "        for i in range(0,testData.shape[0]):\n",
    "            predictions[i] = self.classifier.predict(x[i].reshape(1,-1))\n",
    "        '''\n",
    "        predictions = self.classifier.predict(x)\n",
    "        #print(x.shape)\n",
    "        \n",
    "        return predictions\n",
    "\n",
    "# test your classifier with only the first 100 training examples (use this\n",
    "# while debugging)\n",
    "# note you should get ~ 65 % accuracy\n",
    "knnClassiferX = KNNClassifer()\n",
    "knnClassiferX.train(trainData[:100], trainLabels[:100])\n",
    "print ('KNN classifier accuracy: %f'%test(testData, testLabels, knnClassiferX))"
   ]
  },
  {
   "cell_type": "code",
   "execution_count": 8,
   "id": "92feb0da",
   "metadata": {},
   "outputs": [
    {
     "name": "stdout",
     "output_type": "stream",
     "text": [
      "KNN classifier accuracy: 97.050000\n",
      "Wall time: 1min 29s\n"
     ]
    }
   ],
   "source": [
    "%%time\n",
    "# test your classifier with all the training examples (This may take a while)\n",
    "knnClassifer = KNNClassifer()\n",
    "knnClassifer.train(trainData, trainLabels)\n",
    "print ('KNN classifier accuracy: %f'%test(testData, testLabels, knnClassifer))"
   ]
  },
  {
   "cell_type": "code",
   "execution_count": 10,
   "id": "bee2d35a",
   "metadata": {},
   "outputs": [
    {
     "name": "stdout",
     "output_type": "stream",
     "text": [
      "k=1 done\n",
      "k=2 done\n",
      "k=3 done\n",
      "k=4 done\n",
      "k=5 done\n",
      "k=6 done\n",
      "k=7 done\n",
      "k=8 done\n",
      "k=9 done\n",
      "k=10 done\n"
     ]
    },
    {
     "data": {
      "image/png": "[encoded data removed]",
      "text/plain": [
       "<Figure size 432x288 with 1 Axes>"
      ]
     },
     "metadata": {
      "needs_background": "light"
     },
     "output_type": "display_data"
    }
   ],
   "source": [
    "import time\n",
    "x=[1,2,3,4,5,6,7,8,9,10]\n",
    "y=[]\n",
    "time_list=[]\n",
    "for i in range(1,11):\n",
    "    current_time = time.time()\n",
    "    knnClassifer_tmp = KNNClassifer(k=i)\n",
    "    knnClassifer_tmp.train(trainData, trainLabels)\n",
    "    y.append(test(testData, testLabels, knnClassifer_tmp))\n",
    "    new_time = time.time()\n",
    "    time_list.append(new_time-current_time)\n",
    "    print(\"k=%d done\"%i)\n",
    "plt.plot(x,y)\n",
    "plt.plot(x,time_list)\n",
    "plt.show()"
   ]
  },
  {
   "cell_type": "code",
   "execution_count": 11,
   "id": "6501d123",
   "metadata": {},
   "outputs": [
    {
     "data": {
      "image/png": "[encoded data removed]",
      "text/plain": [
       "<Figure size 432x288 with 1 Axes>"
      ]
     },
     "metadata": {
      "needs_background": "light"
     },
     "output_type": "display_data"
    },
    {
     "data": {
      "image/png": "[encoded data removed]",
      "text/plain": [
       "<Figure size 432x288 with 1 Axes>"
      ]
     },
     "metadata": {
      "needs_background": "light"
     },
     "output_type": "display_data"
    }
   ],
   "source": [
    "plt.plot(x,y)\n",
    "plt.title(\"accuracy\")\n",
    "plt.show()\n",
    "plt.plot(x,time_list)\n",
    "plt.title(\"time\")\n",
    "plt.show()"
   ]
  },
  {
   "cell_type": "markdown",
   "id": "d578e9b9",
   "metadata": {},
   "source": [
    "# Fast KNN where majority rules"
   ]
  },
  {
   "cell_type": "code",
   "execution_count": 22,
   "id": "79401eb8",
   "metadata": {},
   "outputs": [
    {
     "data": {
      "text/plain": [
       "\"\\nnew_knnClassiferX = New_KNNClassifer()\\nnew_knnClassiferX.train(trainData[:100], trainLabels[:100])\\nprint ('KNN classifier accuracy: %f'%test(testData, testLabels, new_knnClassiferX))\\n\""
      ]
     },
     "execution_count": 22,
     "metadata": {},
     "output_type": "execute_result"
    }
   ],
   "source": [
    "import random\n",
    "from scipy.stats import mode\n",
    "class  New_KNNClassifer():\n",
    "    def __init__(self, k=3):\n",
    "        # k is the number of neighbors involved in voting\n",
    "        \"\"\" ==========\n",
    "        YOUR CODE HERE\n",
    "        ========== \"\"\"\n",
    "        self.classifier = []\n",
    "        for i in range(0,10):\n",
    "            self.classifier.append(KNeighborsClassifier(n_neighbors=k))\n",
    "        #print(self.classifier)\n",
    "    def train(self, trainData, trainLabels):\n",
    "        \"\"\" ==========\n",
    "        YOUR CODE HERE\n",
    "        ========== \"\"\"\n",
    "        #print(trainData.shape)\n",
    "        trainData = np.reshape(trainData, (trainData.shape[0], trainData.shape[1]*trainData.shape[2]))\n",
    "        #print(trainData.shape)\n",
    "        stratified_train_data = np.split(trainData,10)\n",
    "        #print(stratified_train_data[0].shape)\n",
    "        stratified_train_labels = np.split(trainLabels,10)\n",
    "        #print(stratified_train_labels[0].shape)\n",
    "        for i in range(0,10):\n",
    "            self.classifier[i].fit(stratified_train_data[i],stratified_train_labels[i])\n",
    "    def predict(self, testData, choice_num):\n",
    "        testData = np.reshape(testData, (testData.shape[0], testData.shape[1]*testData.shape[2]))\n",
    "        choices = []\n",
    "        predictions = np.empty((testData.shape[0]))\n",
    "        #print(predictions.shape)\n",
    "        prediction_single = np.empty((choice_num,testData.shape[0]))\n",
    "        #print(prediction_single)\n",
    "        for i in range(0,choice_num):\n",
    "            choices.append(random.randint(0,9))\n",
    "\n",
    "        for j in range(0,choice_num):\n",
    "            #print(testData[i].reshape(1,-1).shape)\n",
    "            #print(self.classifier[j].predict(testData[i].reshape(1,-1)).shape)\n",
    "            #print(self.classifier[j].predict(testData).shape)\n",
    "            prediction_single[j] = self.classifier[choices[j]].predict(testData)\n",
    "            #print(self.classifier[j].predict(testData).shape)\n",
    "        \n",
    "        temp = np.empty((choice_num))\n",
    "        for i in range(0,testData.shape[0]):\n",
    "            for j in range(0,choice_num):\n",
    "                temp[j] = prediction_single[j][i]\n",
    "            predictions[i] = mode(temp)[0][0]\n",
    "        return predictions\n",
    "        \n",
    "    def __call__(self, x,partial=3):\n",
    "        # this method should take a batch of images\n",
    "        # and return a batch of predictions\n",
    "        \"\"\" ==========\n",
    "        YOUR CODE HERE\n",
    "        ========== \"\"\"\n",
    "        results = self.predict(x,partial)\n",
    "        \n",
    "        return results\n",
    "\n",
    "'''\n",
    "new_knnClassiferX = New_KNNClassifer()\n",
    "new_knnClassiferX.train(trainData[:100], trainLabels[:100])\n",
    "print ('KNN classifier accuracy: %f'%test(testData, testLabels, new_knnClassiferX))\n",
    "'''"
   ]
  },
  {
   "cell_type": "code",
   "execution_count": 23,
   "id": "7c6e6253",
   "metadata": {},
   "outputs": [
    {
     "name": "stdout",
     "output_type": "stream",
     "text": [
      "KNN classifier accuracy: 94.470000\n",
      "Wall time: 35.7 s\n"
     ]
    }
   ],
   "source": [
    "%%time\n",
    "# test your classifier with all the training examples (This may take a while)\n",
    "new_knnClassifer = New_KNNClassifer()\n",
    "new_knnClassifer.train(trainData, trainLabels)\n",
    "print ('KNN classifier accuracy: %f'%test(testData, testLabels, new_knnClassifer))"
   ]
  },
  {
   "cell_type": "code",
   "execution_count": 24,
   "id": "7789311f",
   "metadata": {},
   "outputs": [
    {
     "name": "stdout",
     "output_type": "stream",
     "text": [
      "k=1 done\n",
      "k=2 done\n",
      "k=3 done\n",
      "k=4 done\n",
      "k=5 done\n",
      "k=6 done\n",
      "k=7 done\n",
      "k=8 done\n",
      "k=9 done\n",
      "k=10 done\n"
     ]
    }
   ],
   "source": [
    "import time\n",
    "x=[i for i in range(1,11)]\n",
    "y=[]\n",
    "time_list=[]\n",
    "for i in range(1,11):\n",
    "    current_time = time.time()\n",
    "    knnClassifer_tmp = New_KNNClassifer(k=i)\n",
    "    knnClassifer_tmp.train(trainData, trainLabels)\n",
    "    y.append(test(testData, testLabels, knnClassifer_tmp))\n",
    "    new_time = time.time()\n",
    "    time_list.append(new_time-current_time)\n",
    "    print(\"k=%d done\"%i)"
   ]
  },
  {
   "cell_type": "code",
   "execution_count": 25,
   "id": "cc2a0220",
   "metadata": {},
   "outputs": [
    {
     "data": {
      "image/png": "[encoded data removed]",
      "text/plain": [
       "<Figure size 432x288 with 1 Axes>"
      ]
     },
     "metadata": {
      "needs_background": "light"
     },
     "output_type": "display_data"
    },
    {
     "data": {
      "image/png": "[encoded data removed]",
      "text/plain": [
       "<Figure size 432x288 with 1 Axes>"
      ]
     },
     "metadata": {
      "needs_background": "light"
     },
     "output_type": "display_data"
    }
   ],
   "source": [
    "plt.plot(x,y)\n",
    "plt.title(\"accuracy\")\n",
    "plt.show()\n",
    "plt.plot(x,time_list)\n",
    "plt.title(\"time\")\n",
    "plt.show()"
   ]
  },
  {
   "cell_type": "code",
   "execution_count": 26,
   "id": "1b510e69",
   "metadata": {},
   "outputs": [],
   "source": [
    "# tests the accuracy of a classifier\n",
    "def test_with_param(testData, testLabels, classifier,partial):\n",
    "    batchsize=50\n",
    "    correct=0.\n",
    "    for data,label in DataBatch(testData,testLabels,batchsize,shuffle=False):\n",
    "        prediction = classifier(data,partial)\n",
    "        correct += np.sum(prediction==label)\n",
    "    return correct/testData.shape[0]*100\n",
    "\n",
    "\n"
   ]
  },
  {
   "cell_type": "code",
   "execution_count": 27,
   "id": "46aa878f",
   "metadata": {},
   "outputs": [
    {
     "name": "stdout",
     "output_type": "stream",
     "text": [
      "partial=1 done\n",
      "partial=2 done\n",
      "partial=3 done\n",
      "partial=4 done\n",
      "partial=5 done\n",
      "partial=6 done\n",
      "partial=7 done\n",
      "partial=8 done\n",
      "partial=9 done\n",
      "partial=10 done\n",
      "partial=11 done\n",
      "partial=12 done\n",
      "partial=13 done\n",
      "partial=14 done\n",
      "partial=15 done\n",
      "partial=16 done\n",
      "partial=17 done\n",
      "partial=18 done\n",
      "partial=19 done\n",
      "partial=20 done\n"
     ]
    }
   ],
   "source": [
    "import time\n",
    "x=[i for i in range(1,21)]\n",
    "y=[]\n",
    "time_list=[]\n",
    "for i in range(1,21):\n",
    "    current_time = time.time()\n",
    "    knnClassifer_tmp = New_KNNClassifer()\n",
    "    knnClassifer_tmp.train(trainData, trainLabels)\n",
    "    y.append(test_with_param(testData, testLabels, knnClassifer_tmp,partial=i))\n",
    "    new_time = time.time()\n",
    "    time_list.append(new_time-current_time)\n",
    "    print(\"partial=%d done\"%i)\n"
   ]
  },
  {
   "cell_type": "code",
   "execution_count": 28,
   "id": "5589fe67",
   "metadata": {},
   "outputs": [
    {
     "data": {
      "image/png": "[encoded data removed]",
      "text/plain": [
       "<Figure size 432x288 with 1 Axes>"
      ]
     },
     "metadata": {
      "needs_background": "light"
     },
     "output_type": "display_data"
    },
    {
     "data": {
      "image/png": "[encoded data removed]",
      "text/plain": [
       "<Figure size 432x288 with 1 Axes>"
      ]
     },
     "metadata": {
      "needs_background": "light"
     },
     "output_type": "display_data"
    }
   ],
   "source": [
    "\n",
    "plt.plot(x,y)\n",
    "plt.title(\"accuracy\")\n",
    "plt.show()\n",
    "plt.plot(x,time_list)\n",
    "plt.title(\"time\")\n",
    "plt.show()"
   ]
  },
  {
   "cell_type": "markdown",
   "id": "5186cd31",
   "metadata": {},
   "source": [
    "# PCAKNN"
   ]
  },
  {
   "cell_type": "code",
   "execution_count": 29,
   "id": "edc8ff80",
   "metadata": {},
   "outputs": [
    {
     "name": "stdout",
     "output_type": "stream",
     "text": [
      "KNN classifier accuracy: 66.480000\n"
     ]
    }
   ],
   "source": [
    "class PCAKNNClassifer():\n",
    "    def __init__(self, components=25, k=3):\n",
    "        # components = number of principal components\n",
    "        # k is the number of neighbors involved in voting\n",
    "        \"\"\" ==========\n",
    "        YOUR CODE HERE\n",
    "        ========== \"\"\"\n",
    "        self.classifier = KNeighborsClassifier(n_neighbors=3)\n",
    "        self.components = components\n",
    "    def train(self, trainData, trainLabels):\n",
    "        \"\"\" ==========\n",
    "        YOUR CODE HERE\n",
    "        ========== \"\"\"\n",
    "        trainData = np.reshape(trainData, (trainData.shape[0], trainData.shape[1]*trainData.shape[2]))\n",
    "        if(trainData.shape[0]>trainData.shape[1]):\n",
    "            u, s, vh = np.linalg.svd(trainData,full_matrices=False)\n",
    "            #print(\"used economy\")\n",
    "        else:\n",
    "            u, s, vh = np.linalg.svd(trainData)\n",
    "        #print(vh.shape)\n",
    "        self.w = vh[:self.components]\n",
    "        self.w = self.w.T\n",
    "        data = np.ndarray((trainData.shape[0],self.components))\n",
    "        for i in range (0,trainData.shape[0]):\n",
    "            #print(self.w.shape)\n",
    "            #print(trainData[i].shape)\n",
    "            data[i] = np.dot(trainData[i],self.w)\n",
    "        self.classifier.fit(data,trainLabels)\n",
    "        #print(self.w.shape)\n",
    "        \n",
    "    def __call__(self, x):\n",
    "        # this method should take a batch of images\n",
    "        # and return a batch of predictions\n",
    "        \"\"\" ==========\n",
    "        YOUR CODE HERE\n",
    "        ========== \"\"\"\n",
    "        x = np.reshape(x, (x.shape[0], x.shape[1]*x.shape[2]))\n",
    "        data = np.ndarray((x.shape[0],self.components))\n",
    "        for i in range (0,x.shape[0]):\n",
    "            data[i] = np.dot(x[i],self.w)\n",
    "        \n",
    "        return self.classifier.predict(data)\n",
    "\n",
    "# test your classifier with only the first 100 training examples (use this\n",
    "# while debugging)\n",
    "pcaknnClassiferX = PCAKNNClassifer()\n",
    "pcaknnClassiferX.train(trainData[:100], trainLabels[:100])\n",
    "print ('KNN classifier accuracy: %f'%test(testData, testLabels, pcaknnClassiferX))"
   ]
  },
  {
   "cell_type": "code",
   "execution_count": 30,
   "id": "ca845362",
   "metadata": {},
   "outputs": [
    {
     "name": "stdout",
     "output_type": "stream",
     "text": [
      "PCAKNN classifier accuracy: 97.380000\n",
      "Wall time: 22.9 s\n"
     ]
    }
   ],
   "source": [
    "%%time\n",
    "# test your classifier with all the training examples\n",
    "pcaknnClassifer = PCAKNNClassifer()\n",
    "pcaknnClassifer.train(trainData, trainLabels)\n",
    "print ('PCAKNN classifier accuracy: %f'%test(testData, testLabels, pcaknnClassifer))"
   ]
  },
  {
   "cell_type": "code",
   "execution_count": 32,
   "id": "006460fe",
   "metadata": {},
   "outputs": [
    {
     "name": "stdout",
     "output_type": "stream",
     "text": [
      "k=5 done\n",
      "k=10 done\n",
      "k=15 done\n",
      "k=20 done\n",
      "k=25 done\n",
      "k=30 done\n",
      "k=35 done\n",
      "k=40 done\n",
      "k=45 done\n"
     ]
    }
   ],
   "source": [
    "import time\n",
    "x=[i for i in range(5,50,5)]\n",
    "y=[]\n",
    "time_list=[]\n",
    "for i in range(5,50,5):\n",
    "    current_time = time.time()\n",
    "    knnClassifer_tmp = PCAKNNClassifer(components=i)\n",
    "    knnClassifer_tmp.train(trainData, trainLabels)\n",
    "    y.append(test(testData, testLabels, knnClassifer_tmp))\n",
    "    new_time = time.time()\n",
    "    time_list.append(new_time-current_time)\n",
    "    print(\"k=%d done\"%i)"
   ]
  },
  {
   "cell_type": "code",
   "execution_count": 33,
   "id": "438e8902",
   "metadata": {},
   "outputs": [
    {
     "data": {
      "image/png": "[encoded data removed]",
      "text/plain": [
       "<Figure size 432x288 with 1 Axes>"
      ]
     },
     "metadata": {
      "needs_background": "light"
     },
     "output_type": "display_data"
    },
    {
     "data": {
      "image/png": "[encoded data removed]",
      "text/plain": [
       "<Figure size 432x288 with 1 Axes>"
      ]
     },
     "metadata": {
      "needs_background": "light"
     },
     "output_type": "display_data"
    }
   ],
   "source": [
    "plt.plot(x,y)\n",
    "plt.title(\"accuracy\")\n",
    "plt.show()\n",
    "plt.plot(x,time_list)\n",
    "plt.title(\"time\")\n",
    "plt.show()"
   ]
  }
 ],
 "metadata": {
  "kernelspec": {
   "display_name": "Python 3",
   "language": "python",
   "name": "python3"
  },
  "language_info": {
   "codemirror_mode": {
    "name": "ipython",
    "version": 3
   },
   "file_extension": ".py",
   "mimetype": "text/x-python",
   "name": "python",
   "nbconvert_exporter": "python",
   "pygments_lexer": "ipython3",
   "version": "3.8.10"
  }
 },
 "nbformat": 4,
 "nbformat_minor": 5
}
